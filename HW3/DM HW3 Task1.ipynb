{
 "cells": [
  {
   "cell_type": "code",
   "execution_count": 1,
   "metadata": {},
   "outputs": [],
   "source": [
    "import pandas as pd\n",
    "import numpy as np\n",
    "import random"
   ]
  },
  {
   "cell_type": "code",
   "execution_count": 2,
   "metadata": {},
   "outputs": [],
   "source": [
    "def euclidean_distance(point, data):\n",
    "    return np.sqrt(np.sum((point - data)**2, axis=1))\n",
    "\n",
    "def cosine_distance(point, data):\n",
    "    dot = np.dot(point, data)\n",
    "    data_norm = np.linalg.norm(data)\n",
    "    point_norm = np.linalg.norm(point, axis=1)\n",
    "    return 1 - dot / (data_norm * point_norm)\n",
    "\n",
    "def jaccard_distance(point, data):\n",
    "    # print(point[0].shape, data[0].shape)\n",
    "    minm = np.sum(np.minimum(point, data), axis=1)\n",
    "    maxm = np.sum(np.maximum(point, data), axis=1)\n",
    "    return 1 - minm / maxm"
   ]
  },
  {
   "cell_type": "code",
   "execution_count": 3,
   "metadata": {},
   "outputs": [],
   "source": [
    "df = pd.read_csv('kmeans_data/data.csv', header=None)\n",
    "labels = pd.read_csv('kmeans_data/label.csv', header=None)"
   ]
  },
  {
   "cell_type": "code",
   "execution_count": 4,
   "metadata": {},
   "outputs": [
    {
     "data": {
      "text/plain": [
       "(10000, 784)"
      ]
     },
     "execution_count": 4,
     "metadata": {},
     "output_type": "execute_result"
    }
   ],
   "source": [
    "df.shape"
   ]
  },
  {
   "cell_type": "code",
   "execution_count": 5,
   "metadata": {},
   "outputs": [],
   "source": [
    "def calculate_distances(data, distance_function, centroids):\n",
    "    clusters = [[] for _ in range(len(centroids))]\n",
    "    preds = []\n",
    "    for x in data:\n",
    "        distances = [distance_function(centroids, x)]\n",
    "        cluster_idx = np.argmin(distances)\n",
    "        preds.append(cluster_idx)\n",
    "        clusters[cluster_idx].append(x)\n",
    "    return clusters, preds\n",
    "\n",
    "\n",
    "# def calculate_distances(data, distance_function, centroids):\n",
    "#     distances = distance_function(centroids, data)\n",
    "#     cluster_labels = np.argmin(distances, axis=1)\n",
    "#     return cluster_labels"
   ]
  },
  {
   "cell_type": "code",
   "execution_count": 6,
   "metadata": {},
   "outputs": [],
   "source": [
    "def kmeans(data, k, dist_metric, iterations):\n",
    "    centroids = data.sample(n=k).values\n",
    "    for _ in range(iterations):\n",
    "        clusters, preds = calculate_distances(data.values, dist_metric, centroids)\n",
    "        prev_centroids = centroids\n",
    "        centroids = [np.mean(cluster, axis=0) for cluster in clusters]\n",
    "        for i, centroid in enumerate(centroids):\n",
    "            if np.isnan(centroid).any():\n",
    "                centroids[i] = prev_centroids[i]\n",
    "    assert len(centroids) == k\n",
    "\n",
    "    return centroids, preds"
   ]
  },
  {
   "cell_type": "code",
   "execution_count": 7,
   "metadata": {},
   "outputs": [],
   "source": [
    "def calculate_sse(data, centroids, preds):\n",
    "    sse = 0\n",
    "    for i,center in enumerate(centroids):\n",
    "        # print(euclidean_distance(center, data[np.array(preds) == i].values))\n",
    "        sse += np.sum(euclidean_distance(center, data[np.array(preds) == i].values)**2)\n",
    "    return sse"
   ]
  },
  {
   "cell_type": "markdown",
   "metadata": {},
   "source": [
    "## Kmeans using Euclidean Distance"
   ]
  },
  {
   "cell_type": "code",
   "execution_count": 8,
   "metadata": {},
   "outputs": [
    {
     "data": {
      "text/plain": [
       "25322070190.63885"
      ]
     },
     "execution_count": 8,
     "metadata": {},
     "output_type": "execute_result"
    }
   ],
   "source": [
    "eu_centroids, eu_preds = kmeans(df, 10, euclidean_distance, 100)\n",
    "calculate_sse(df, eu_centroids, eu_preds)\n"
   ]
  },
  {
   "cell_type": "markdown",
   "metadata": {},
   "source": [
    "## Kmeans using Cosine Distance"
   ]
  },
  {
   "cell_type": "code",
   "execution_count": 9,
   "metadata": {},
   "outputs": [
    {
     "data": {
      "text/plain": [
       "25419338339.34366"
      ]
     },
     "execution_count": 9,
     "metadata": {},
     "output_type": "execute_result"
    }
   ],
   "source": [
    "co_centroids, co_preds = kmeans(df, 10, cosine_distance, 100)\n",
    "calculate_sse(df, co_centroids, co_preds)"
   ]
  },
  {
   "cell_type": "markdown",
   "metadata": {},
   "source": [
    "## Kmeans using Jaccard Distance"
   ]
  },
  {
   "cell_type": "code",
   "execution_count": 10,
   "metadata": {},
   "outputs": [
    {
     "data": {
      "text/plain": [
       "25697520677.576557"
      ]
     },
     "execution_count": 10,
     "metadata": {},
     "output_type": "execute_result"
    }
   ],
   "source": [
    "jc_centroids, jc_preds = kmeans(df, 10, jaccard_distance, 100)\n",
    "calculate_sse(df, jc_centroids, jc_preds)"
   ]
  },
  {
   "cell_type": "markdown",
   "metadata": {},
   "source": [
    "--------------------------------------------------------------"
   ]
  },
  {
   "cell_type": "code",
   "execution_count": 11,
   "metadata": {},
   "outputs": [],
   "source": [
    "from sklearn.metrics import confusion_matrix\n",
    "from scipy.stats import mode"
   ]
  },
  {
   "cell_type": "code",
   "execution_count": 17,
   "metadata": {},
   "outputs": [],
   "source": [
    "def majority_vote(preds, true_labels, k):\n",
    "    from collections import Counter\n",
    "    label_mapping = {}\n",
    "    for cluster in range(k):\n",
    "        cluster_labels = true_labels[np.array(preds) == cluster]\n",
    "        if len(cluster_labels) > 0:\n",
    "            most_common_label = Counter(cluster_labels.dropna()[0]).most_common(1)[0][0]\n",
    "            label_mapping[cluster] = most_common_label\n",
    "    return label_mapping"
   ]
  },
  {
   "cell_type": "code",
   "execution_count": 18,
   "metadata": {},
   "outputs": [
    {
     "data": {
      "text/plain": [
       "array([False, False, False, ..., False, False, False])"
      ]
     },
     "execution_count": 18,
     "metadata": {},
     "output_type": "execute_result"
    }
   ],
   "source": [
    "np.array(eu_preds) == 1"
   ]
  },
  {
   "cell_type": "code",
   "execution_count": 19,
   "metadata": {},
   "outputs": [],
   "source": [
    "eu_label_assignment = majority_vote(eu_preds, labels, 10)\n",
    "co_label_assignment = majority_vote(co_preds, labels, 10)\n",
    "jc_label_assignment = majority_vote(jc_preds, labels, 10)"
   ]
  },
  {
   "cell_type": "code",
   "execution_count": 20,
   "metadata": {},
   "outputs": [
    {
     "name": "stdout",
     "output_type": "stream",
     "text": [
      "Kmeans Accuracy with Euclidean Distance: 59.88 %\n",
      "Kmeans Accuracy with Cosine Distance: 61.21 %\n",
      "Kmeans Accuracy with Jaccard Distance: 55.96 %\n"
     ]
    }
   ],
   "source": [
    "predicted_labels_eu = [eu_label_assignment[pred] for pred in eu_preds]\n",
    "eu_acc = np.mean(predicted_labels_eu == labels[0]) * 100\n",
    "print(\"Kmeans Accuracy with Euclidean Distance:\", eu_acc, \"%\")\n",
    "\n",
    "predicted_labels_co = [co_label_assignment[pred] for pred in co_preds]\n",
    "co_acc = np.mean(predicted_labels_co == labels[0]) * 100\n",
    "print(\"Kmeans Accuracy with Cosine Distance:\", co_acc, \"%\")\n",
    "\n",
    "predicted_labels_jc = [jc_label_assignment[pred] for pred in jc_preds]\n",
    "jc_acc = np.mean(predicted_labels_jc == labels[0]) * 100\n",
    "print(\"Kmeans Accuracy with Jaccard Distance:\", jc_acc, \"%\")"
   ]
  },
  {
   "cell_type": "code",
   "execution_count": 21,
   "metadata": {},
   "outputs": [],
   "source": [
    "def kmeans_convergence(data, k, dist_metric):\n",
    "    centroids = data.sample(n=k).values\n",
    "    iteration = 0\n",
    "    while True:\n",
    "        clusters, preds = calculate_distances(data.values, dist_metric, centroids)\n",
    "        prev_centroids = centroids\n",
    "        centroids = [np.mean(cluster, axis=0) for cluster in clusters]\n",
    "        for i, centroid in enumerate(centroids):\n",
    "            if np.isnan(centroid).any():\n",
    "                centroids[i] = prev_centroids[i]\n",
    "        \n",
    "        iteration += 1\n",
    "\n",
    "        if np.allclose(prev_centroids, centroids):\n",
    "            break\n",
    "        \n",
    "    assert len(centroids) == k\n",
    "\n",
    "    return centroids, preds, iteration"
   ]
  },
  {
   "cell_type": "code",
   "execution_count": 22,
   "metadata": {},
   "outputs": [
    {
     "name": "stdout",
     "output_type": "stream",
     "text": [
      "Kmeans Convergence Iterations with Euclidean Distance: 68\n",
      "Kmeans Convergence Iterations with Cosine Distance: 71\n",
      "Kmeans Convergence Iterations with Jaccard Distance: 61\n",
      "Kmeans Convergence SSE with Euclidean Distance: 25465533501.70494\n",
      "Kmeans Convergence SSE with Cosine Distance: 25554525140.559067\n",
      "Kmeans Convergence SSE with Jaccard Distance: 25515634343.188545\n"
     ]
    }
   ],
   "source": [
    "eu_conv_centroids, eu_conv_preds, eu_iter = kmeans_convergence(df, 10, euclidean_distance)\n",
    "co_conv_centroids, co_conv_preds, co_iter = kmeans_convergence(df, 10, cosine_distance)\n",
    "jc_conv_centroids, jc_conv_preds, jc_iter = kmeans_convergence(df, 10, jaccard_distance)\n",
    "\n",
    "print(\"Kmeans Convergence Iterations with Euclidean Distance:\", eu_iter)\n",
    "print(\"Kmeans Convergence Iterations with Cosine Distance:\", co_iter)\n",
    "print(\"Kmeans Convergence Iterations with Jaccard Distance:\", jc_iter)\n",
    "\n",
    "print(\"Kmeans Convergence SSE with Euclidean Distance:\", calculate_sse(df, eu_conv_centroids, eu_conv_preds))\n",
    "print(\"Kmeans Convergence SSE with Cosine Distance:\", calculate_sse(df, co_conv_centroids, co_conv_preds))\n",
    "print(\"Kmeans Convergence SSE with Jaccard Distance:\", calculate_sse(df, jc_conv_centroids, jc_conv_preds))"
   ]
  },
  {
   "cell_type": "code",
   "execution_count": 23,
   "metadata": {},
   "outputs": [],
   "source": [
    "def calculate_distances_sse(data, distance_function, centroids):\n",
    "    clusters = [[] for _ in range(len(centroids))]\n",
    "    preds = []\n",
    "    dist = []\n",
    "    for x in data:\n",
    "        distances = [distance_function(centroids, x)]\n",
    "        cluster_idx = np.argmin(distances)\n",
    "        preds.append(cluster_idx)\n",
    "        dist.append(distances[0][cluster_idx])\n",
    "        clusters[cluster_idx].append(x)\n",
    "    return dist, clusters, preds"
   ]
  },
  {
   "cell_type": "code",
   "execution_count": 28,
   "metadata": {},
   "outputs": [],
   "source": [
    "def kmeans_sse(data, k, dist_metric):\n",
    "    centroids = data.sample(n=k).values\n",
    "    prev_sse = np.inf\n",
    "    iteration = 0\n",
    "    while True:\n",
    "        distances, clusters, preds = calculate_distances_sse(data.values, dist_metric, centroids)\n",
    "        prev_centroids = centroids\n",
    "        centroids = [np.mean(cluster, axis=0) for cluster in clusters]\n",
    "        for i, centroid in enumerate(centroids):\n",
    "            if np.isnan(centroid).any():\n",
    "                centroids[i] = prev_centroids[i]\n",
    "        \n",
    "        iteration += 1\n",
    "        curr_sse = np.sum(distances)\n",
    "        # print(curr_sse, prev_sse)\n",
    "        if prev_sse < curr_sse:\n",
    "            break\n",
    "        prev_sse = curr_sse\n",
    "        \n",
    "    assert len(centroids) == k\n",
    "\n",
    "    return centroids, preds, iteration"
   ]
  },
  {
   "cell_type": "code",
   "execution_count": 29,
   "metadata": {},
   "outputs": [
    {
     "name": "stdout",
     "output_type": "stream",
     "text": [
      "Kmeans SSE Iterations with Euclidean Distance: 40\n",
      "Kmeans SSE Iterations with Cosine Distance: 69\n",
      "Kmeans SSE Iterations with Jaccard Distance: 20\n",
      "Kmeans SSE with Euclidean Distance: 25577491450.67655\n",
      "Kmeans SSE with Cosine Distance: 25559656397.190304\n",
      "Kmeans SSE with Jaccard Distance: 25485535652.641655\n"
     ]
    }
   ],
   "source": [
    "eu_sse_centroids, eu_sse_preds, eu_sse_iter = kmeans_sse(df, 10, euclidean_distance)\n",
    "co_sse_centroids, co_sse_preds, co_sse_iter = kmeans_sse(df, 10, cosine_distance)\n",
    "jc_sse_centroids, jc_sse_preds, jc_sse_iter = kmeans_sse(df, 10, jaccard_distance)\n",
    "\n",
    "print(\"Kmeans SSE Iterations with Euclidean Distance:\", eu_sse_iter)\n",
    "print(\"Kmeans SSE Iterations with Cosine Distance:\", co_sse_iter)\n",
    "print(\"Kmeans SSE Iterations with Jaccard Distance:\", jc_sse_iter)\n",
    "\n",
    "print(\"Kmeans SSE with Euclidean Distance:\", calculate_sse(df, eu_sse_centroids, eu_sse_preds))\n",
    "print(\"Kmeans SSE with Cosine Distance:\", calculate_sse(df, co_sse_centroids, co_sse_preds))\n",
    "print(\"Kmeans SSE with Jaccard Distance:\", calculate_sse(df, jc_sse_centroids, jc_sse_preds))"
   ]
  },
  {
   "cell_type": "code",
   "execution_count": null,
   "metadata": {},
   "outputs": [],
   "source": [
    "def assign_labels_to_clusters(cluster_assignments, true_labels, num_clusters):\n",
    "    assigned_labels = []\n",
    "    for cluster in range(num_clusters):\n",
    "        cluster_indices = np.where(cluster_assignments == cluster)[0]\n",
    "        # print(cluster_indices)\n",
    "        if len(cluster_indices) > 0:\n",
    "            majority_label = mode(true_labels.iloc[cluster_indices])[0]\n",
    "            assigned_labels.append(majority_label)\n",
    "        else:\n",
    "            assigned_labels.append(None) \n",
    "    return assigned_labels"
   ]
  },
  {
   "cell_type": "code",
   "execution_count": 196,
   "metadata": {},
   "outputs": [],
   "source": [
    "# assign_labels_to_clusters(np.array(eu_preds), labels, 10)"
   ]
  },
  {
   "cell_type": "code",
   "execution_count": null,
   "metadata": {},
   "outputs": [],
   "source": []
  }
 ],
 "metadata": {
  "kernelspec": {
   "display_name": "env",
   "language": "python",
   "name": "env"
  },
  "language_info": {
   "codemirror_mode": {
    "name": "ipython",
    "version": 3
   },
   "file_extension": ".py",
   "mimetype": "text/x-python",
   "name": "python",
   "nbconvert_exporter": "python",
   "pygments_lexer": "ipython3",
   "version": "3.12.3"
  }
 },
 "nbformat": 4,
 "nbformat_minor": 2
}
